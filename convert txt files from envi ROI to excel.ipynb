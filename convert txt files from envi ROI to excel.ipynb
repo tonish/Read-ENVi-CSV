{
 "cells": [
  {
   "cell_type": "code",
   "execution_count": 1,
   "metadata": {
    "collapsed": false,
    "scrolled": true
   },
   "outputs": [
    {
     "name": "stdout",
     "output_type": "stream",
     "text": [
      "0:00:02.644000\n",
      "finish\n"
     ]
    }
   ],
   "source": [
    "import os\n",
    "import pandas as pd\n",
    "from numpy import nan\n",
    "from datetime import datetime\n",
    "startTime = datetime.now()\n",
    "src = r\"N:\\Ran\\RanRoof Feb 2018\\analysis\\HAWK\\EHK\\reflectance images\\CR 1550 1790\\EHK image5 1550 1790 MA3 CR aggregated to half the size spectrum per pixel only Evrona 4m.txt\"\n",
    "writer = pd.ExcelWriter(r\"N:\\Ran\\RanRoof Feb 2018\\analysis\\HAWK\\EHK\\reflectance images\\CR 1550 1790\\EHK image5 1550 1790 MA3 CR aggregated to half the size spectrum per pixel only Evrona 4m.xlsx\", options={'strings_to_numbers': True})\n",
    "wv_file = r\"N:\\Ran\\RanRoof Feb 2018\\analysis\\HAWK\\EHK\\reflectance images\\CR 1550 1790\\HAWK wv 1550 1790.xlsx\"\n",
    "wv_df = pd.read_excel(wv_file)\n",
    "\n",
    "data = []\n",
    "df_list = []\n",
    "sheet_names = []\n",
    "\n",
    "# for txt_file in os.listdir(src):\n",
    "#     if txt_file.endswith(\".txt\"):\n",
    "with open(src) as f:\n",
    "    col_names = []\n",
    "    data = []\n",
    "    content = f.readlines()\n",
    "    for i in content:               \n",
    "        if \"ROI name\" in i:\n",
    "            sheet_names.append(i.split(\":\")[1].strip())\n",
    "\n",
    "        else:\n",
    "            row = \" \".join(i.split())        \n",
    "            data.append(row.split(\" \")) \n",
    "                    \n",
    "df = pd.DataFrame(data)                    \n",
    "first_row = df.loc[df[1]=='ID'].index[0]  \n",
    "df = df.loc[first_row:,:]\n",
    "df.columns = df.iloc[0]\n",
    "df = df.iloc[1:,:]\n",
    "df.fillna(value=nan, inplace=True)\n",
    "df = df.iloc[:,1:-1]\n",
    "col_list = df.columns.tolist()\n",
    "col_list = col_list[1:3]\n",
    "wv_list = wv_df.WV.tolist()\n",
    "new_col_list = col_list+wv_list\n",
    "df.columns = new_col_list\n",
    "df['group_no'] = df.isnull().all(axis=1).cumsum() #give id to a group, a group is seperated by \"nan\" row\n",
    "df = df.dropna()\n",
    "df_list = [x for _, x in df.groupby(df['group_no'])]\n",
    "df = df.iloc[:,:-1]                   \n",
    "df = df.apply(pd.to_numeric)\n",
    "for k in range(len(sheet_names)):\n",
    "    df_list[k].iloc[:,:-1].to_excel(writer,sheet_name =sheet_names[k], index=False)\n",
    "    \n",
    "writer.save()          \n",
    "            \n",
    "print datetime.now() - startTime\n",
    "print \"finish\""
   ]
  },
  {
   "cell_type": "code",
   "execution_count": null,
   "metadata": {
    "collapsed": true
   },
   "outputs": [],
   "source": []
  }
 ],
 "metadata": {
  "anaconda-cloud": {},
  "kernelspec": {
   "display_name": "Python [Root]",
   "language": "python",
   "name": "Python [Root]"
  },
  "language_info": {
   "codemirror_mode": {
    "name": "ipython",
    "version": 2
   },
   "file_extension": ".py",
   "mimetype": "text/x-python",
   "name": "python",
   "nbconvert_exporter": "python",
   "pygments_lexer": "ipython2",
   "version": "2.7.12"
  }
 },
 "nbformat": 4,
 "nbformat_minor": 0
}
