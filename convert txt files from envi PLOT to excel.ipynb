{
 "cells": [
  {
   "cell_type": "code",
   "execution_count": 2,
   "metadata": {
    "scrolled": true
   },
   "outputs": [
    {
     "ename": "SyntaxError",
     "evalue": "Missing parentheses in call to 'print'. Did you mean print(\"finish\")? (<ipython-input-2-4b7c59b22d9a>, line 40)",
     "output_type": "error",
     "traceback": [
      "\u001b[1;36m  File \u001b[1;32m\"<ipython-input-2-4b7c59b22d9a>\"\u001b[1;36m, line \u001b[1;32m40\u001b[0m\n\u001b[1;33m    print \"finish\"\u001b[0m\n\u001b[1;37m                 ^\u001b[0m\n\u001b[1;31mSyntaxError\u001b[0m\u001b[1;31m:\u001b[0m Missing parentheses in call to 'print'. Did you mean print(\"finish\")?\n"
     ]
    }
   ],
   "source": [
    "import os\n",
    "import pandas as pd\n",
    "\n",
    "src = r\"N:\\Ran\\Lab SoilOilMix\\New folder\"\n",
    "writer = pd.ExcelWriter(r\"N:\\Ran\\Lab SoilOilMix\\uncontaminated soils for Yaron analysis.xlsx\", engine='xlsxwriter', options={'strings_to_numbers': True})\n",
    "data = []\n",
    "df_list = []\n",
    "sheet_names = []\n",
    "\n",
    "for txt_file in os.listdir(src):\n",
    "    if txt_file.endswith(\".txt\"):\n",
    "        print (txt_file)\n",
    "        sheet_name1 = txt_file.split(\".\")[0]\n",
    "        if len(sheet_name1) > 31:\n",
    "            sheet_name1 = sheet_name1[:31]\n",
    "        sheet_names.append(sheet_name1)\n",
    "        with open(os.path.join(src,txt_file)) as f:\n",
    "            col_names = []\n",
    "            data = []\n",
    "            content = f.readlines()\n",
    "            content = [x.strip() for x in content] #remove whitespace characters like `\\n` at the end of each line\n",
    "            content.pop(0) #the first item is the date of the creation\n",
    "            for i in content:\n",
    "                if \"Column\" in i:\n",
    "                    ii = i.split(\"~\")\n",
    "                    iii = ii[0].split(\":\")\n",
    "                    col_names.append(iii[1])\n",
    "                else:\n",
    "                    row = \" \".join(i.split())        \n",
    "                    data.append(row.split(\" \"))      \n",
    "\n",
    "            df = pd.DataFrame(data, columns=col_names)\n",
    "            df_list.append(df)\n",
    "\n",
    "for k in range(len(sheet_names)):\n",
    "    df_list[k].to_excel(writer,sheet_name =sheet_names[k], index=False )\n",
    "    \n",
    "writer.save()          \n",
    "            \n",
    "print \"finish\""
   ]
  },
  {
   "cell_type": "code",
   "execution_count": null,
   "metadata": {
    "collapsed": true
   },
   "outputs": [],
   "source": [
    "my way:"
   ]
  },
  {
   "cell_type": "code",
   "execution_count": null,
   "metadata": {},
   "outputs": [],
   "source": [
    "###### with open(r'C:\\Users\\tonish\\OneDrive - mail.tau.ac.il\\Polymers in Canada\\again\\pseudo_emissivity.txt') as f:\n",
    "            col_names = []\n",
    "            data = []\n",
    "            content = f.readlines()\n",
    "            content = [x.strip() for x in content] #remove whitespace characters like `\\n` at the end of each line\n",
    "            content.pop(0) #the first item is the date of the creation\n",
    "            for i in content:\n",
    "                if \"Column\" in i:\n",
    "                    ii = i.split(\"~\")\n",
    "                    iii = ii[0].split(\":\",2)\n",
    "                    if len(iii)>2:\n",
    "                        col_names.append(iii[2].split(' ')[1])\n",
    "                    else:\n",
    "                        col_names.append(iii[1])    \n",
    "                else:\n",
    "                    row = \" \".join(i.split())        \n",
    "                    data.append(row.split(\" \"))\n",
    "df = pd.DataFrame(data, columns=col_names)\n"
   ]
  }
 ],
 "metadata": {
  "anaconda-cloud": {},
  "kernelspec": {
   "display_name": "Python 3",
   "language": "python",
   "name": "python3"
  },
  "language_info": {
   "codemirror_mode": {
    "name": "ipython",
    "version": 3
   },
   "file_extension": ".py",
   "mimetype": "text/x-python",
   "name": "python",
   "nbconvert_exporter": "python",
   "pygments_lexer": "ipython3",
   "version": "3.6.4"
  }
 },
 "nbformat": 4,
 "nbformat_minor": 1
}
